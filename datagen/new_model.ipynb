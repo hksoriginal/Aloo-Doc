{
 "cells": [
  {
   "cell_type": "code",
   "execution_count": 1,
   "id": "932e564d",
   "metadata": {},
   "outputs": [],
   "source": [
    "import tensorflow as tf\n",
    "from tensorflow.keras import models, layers\n",
    "import matplotlib.pyplot as plt\n",
    "from IPython.display import HTML\n",
    "from tensorflow.keras.preprocessing.image import ImageDataGenerator"
   ]
  },
  {
   "cell_type": "code",
   "execution_count": 2,
   "id": "3f307752",
   "metadata": {},
   "outputs": [
    {
     "name": "stdout",
     "output_type": "stream",
     "text": [
      "Found 1721 images belonging to 3 classes.\n"
     ]
    }
   ],
   "source": [
    "IMAGE_SIZE = 256\n",
    "CHANNELS = 3\n",
    "\n",
    "train_datagen = ImageDataGenerator(\n",
    "    rescale=1./255,\n",
    "    horizontal_flip=True,\n",
    "    rotation_range=10\n",
    "    \n",
    ")\n",
    "train_generator =  train_datagen.flow_from_directory(\n",
    "    'dataset/train',\n",
    "    target_size = (IMAGE_SIZE,IMAGE_SIZE),\n",
    "    batch_size =32,\n",
    "    class_mode = 'sparse',\n",
    "    \n",
    ")"
   ]
  },
  {
   "cell_type": "code",
   "execution_count": 3,
   "id": "358d34c3",
   "metadata": {},
   "outputs": [
    {
     "name": "stdout",
     "output_type": "stream",
     "text": [
      "Found 215 images belonging to 3 classes.\n"
     ]
    }
   ],
   "source": [
    "validation_datagen = ImageDataGenerator(\n",
    "    rescale=1./255,\n",
    "    horizontal_flip=True,\n",
    "    rotation_range=10\n",
    "    \n",
    ")\n",
    "validation_generator =  train_datagen.flow_from_directory(\n",
    "    'dataset/val',\n",
    "    target_size = (IMAGE_SIZE,IMAGE_SIZE),\n",
    "    batch_size =32,\n",
    "    class_mode = 'sparse',\n",
    "    \n",
    ")"
   ]
  },
  {
   "cell_type": "code",
   "execution_count": 4,
   "id": "4af5d714",
   "metadata": {},
   "outputs": [
    {
     "name": "stdout",
     "output_type": "stream",
     "text": [
      "Found 216 images belonging to 3 classes.\n"
     ]
    }
   ],
   "source": [
    "test_datagen = ImageDataGenerator(\n",
    "    rescale=1./255,\n",
    "    horizontal_flip=True,\n",
    "    rotation_range=10\n",
    "    \n",
    ")\n",
    "test_generator =  train_datagen.flow_from_directory(\n",
    "    'dataset/test',\n",
    "    target_size = (IMAGE_SIZE,IMAGE_SIZE),\n",
    "    batch_size =32,\n",
    "    class_mode = 'sparse',\n",
    "    \n",
    ")"
   ]
  },
  {
   "cell_type": "code",
   "execution_count": 5,
   "id": "c71f3d58",
   "metadata": {},
   "outputs": [],
   "source": [
    "input_shape = (IMAGE_SIZE,IMAGE_SIZE,CHANNELS)\n",
    "n_classes = 3\n",
    "model = models.Sequential([\n",
    "    layers.InputLayer(input_shape=input_shape),\n",
    "    layers.Conv2D(32,kernel_size=(3,3),activation='relu'),\n",
    "    layers.MaxPool2D(pool_size=(2,2)),\n",
    "    layers.Conv2D(64,kernel_size=(3,3),activation='relu'),\n",
    "    layers.MaxPool2D(pool_size=(2,2)),\n",
    "    layers.Conv2D(64,kernel_size=(3,3),activation='relu'),\n",
    "    layers.MaxPool2D(pool_size=(2,2)),\n",
    "    layers.Conv2D(64,kernel_size=(3,3),activation='relu'),\n",
    "    layers.MaxPool2D(pool_size=(2,2)),\n",
    "    layers.Conv2D(64,kernel_size=(3,3),activation='relu'),\n",
    "    layers.MaxPool2D(pool_size=(2,2)),\n",
    "    layers.Conv2D(64,kernel_size=(3,3),activation='relu'),\n",
    "    layers.MaxPool2D(pool_size=(2,2)),\n",
    "    layers.Flatten(),\n",
    "    layers.Dense(64,activation='relu'),\n",
    "    layers.Dense(n_classes,activation='softmax')\n",
    "])"
   ]
  },
  {
   "cell_type": "code",
   "execution_count": 6,
   "id": "dd6862e0",
   "metadata": {},
   "outputs": [
    {
     "name": "stdout",
     "output_type": "stream",
     "text": [
      "Model: \"sequential\"\n",
      "_________________________________________________________________\n",
      " Layer (type)                Output Shape              Param #   \n",
      "=================================================================\n",
      " conv2d (Conv2D)             (None, 254, 254, 32)      896       \n",
      "                                                                 \n",
      " max_pooling2d (MaxPooling2D  (None, 127, 127, 32)     0         \n",
      " )                                                               \n",
      "                                                                 \n",
      " conv2d_1 (Conv2D)           (None, 125, 125, 64)      18496     \n",
      "                                                                 \n",
      " max_pooling2d_1 (MaxPooling  (None, 62, 62, 64)       0         \n",
      " 2D)                                                             \n",
      "                                                                 \n",
      " conv2d_2 (Conv2D)           (None, 60, 60, 64)        36928     \n",
      "                                                                 \n",
      " max_pooling2d_2 (MaxPooling  (None, 30, 30, 64)       0         \n",
      " 2D)                                                             \n",
      "                                                                 \n",
      " conv2d_3 (Conv2D)           (None, 28, 28, 64)        36928     \n",
      "                                                                 \n",
      " max_pooling2d_3 (MaxPooling  (None, 14, 14, 64)       0         \n",
      " 2D)                                                             \n",
      "                                                                 \n",
      " conv2d_4 (Conv2D)           (None, 12, 12, 64)        36928     \n",
      "                                                                 \n",
      " max_pooling2d_4 (MaxPooling  (None, 6, 6, 64)         0         \n",
      " 2D)                                                             \n",
      "                                                                 \n",
      " conv2d_5 (Conv2D)           (None, 4, 4, 64)          36928     \n",
      "                                                                 \n",
      " max_pooling2d_5 (MaxPooling  (None, 2, 2, 64)         0         \n",
      " 2D)                                                             \n",
      "                                                                 \n",
      " flatten (Flatten)           (None, 256)               0         \n",
      "                                                                 \n",
      " dense (Dense)               (None, 64)                16448     \n",
      "                                                                 \n",
      " dense_1 (Dense)             (None, 3)                 195       \n",
      "                                                                 \n",
      "=================================================================\n",
      "Total params: 183,747\n",
      "Trainable params: 183,747\n",
      "Non-trainable params: 0\n",
      "_________________________________________________________________\n"
     ]
    }
   ],
   "source": [
    "model.summary()"
   ]
  },
  {
   "cell_type": "code",
   "execution_count": 7,
   "id": "2ed61ff7",
   "metadata": {},
   "outputs": [],
   "source": [
    "model.compile(\n",
    "    optimizer='adam',\n",
    "    loss = tf.keras.losses.SparseCategoricalCrossentropy(from_logits=False),\n",
    "    metrics=['accuracy']\n",
    ")"
   ]
  },
  {
   "cell_type": "code",
   "execution_count": 8,
   "id": "41eae29a",
   "metadata": {},
   "outputs": [
    {
     "name": "stdout",
     "output_type": "stream",
     "text": [
      "Epoch 1/20\n",
      "53/53 [==============================] - 26s 366ms/step - loss: 0.9256 - accuracy: 0.4938 - val_loss: 0.8654 - val_accuracy: 0.6667\n",
      "Epoch 2/20\n",
      "53/53 [==============================] - 18s 336ms/step - loss: 0.8215 - accuracy: 0.6150 - val_loss: 0.5558 - val_accuracy: 0.8229\n",
      "Epoch 3/20\n",
      "53/53 [==============================] - 18s 334ms/step - loss: 0.5185 - accuracy: 0.7928 - val_loss: 0.3064 - val_accuracy: 0.8802\n",
      "Epoch 4/20\n",
      "53/53 [==============================] - 18s 338ms/step - loss: 0.3609 - accuracy: 0.8626 - val_loss: 0.2171 - val_accuracy: 0.9271\n",
      "Epoch 5/20\n",
      "53/53 [==============================] - 18s 333ms/step - loss: 0.2995 - accuracy: 0.8845 - val_loss: 0.2533 - val_accuracy: 0.9167\n",
      "Epoch 6/20\n",
      "53/53 [==============================] - 18s 331ms/step - loss: 0.3129 - accuracy: 0.8774 - val_loss: 0.3492 - val_accuracy: 0.8438\n",
      "Epoch 7/20\n",
      "53/53 [==============================] - 18s 345ms/step - loss: 0.2428 - accuracy: 0.9035 - val_loss: 0.3545 - val_accuracy: 0.8594\n",
      "Epoch 8/20\n",
      "53/53 [==============================] - 18s 342ms/step - loss: 0.2020 - accuracy: 0.9213 - val_loss: 0.1431 - val_accuracy: 0.9375\n",
      "Epoch 9/20\n",
      "53/53 [==============================] - 18s 334ms/step - loss: 0.1756 - accuracy: 0.9384 - val_loss: 0.2187 - val_accuracy: 0.9271\n",
      "Epoch 10/20\n",
      "53/53 [==============================] - 18s 342ms/step - loss: 0.2054 - accuracy: 0.9207 - val_loss: 0.1594 - val_accuracy: 0.9323\n",
      "Epoch 11/20\n",
      "53/53 [==============================] - 18s 341ms/step - loss: 0.1380 - accuracy: 0.9461 - val_loss: 0.1187 - val_accuracy: 0.9531\n",
      "Epoch 12/20\n",
      "53/53 [==============================] - 19s 350ms/step - loss: 0.1604 - accuracy: 0.9295 - val_loss: 0.0932 - val_accuracy: 0.9479\n",
      "Epoch 13/20\n",
      "53/53 [==============================] - 18s 334ms/step - loss: 0.1227 - accuracy: 0.9538 - val_loss: 0.0890 - val_accuracy: 0.9688\n",
      "Epoch 14/20\n",
      "53/53 [==============================] - 18s 340ms/step - loss: 0.0729 - accuracy: 0.9745 - val_loss: 0.0494 - val_accuracy: 0.9792\n",
      "Epoch 15/20\n",
      "53/53 [==============================] - 18s 347ms/step - loss: 0.1675 - accuracy: 0.9349 - val_loss: 0.0710 - val_accuracy: 0.9844\n",
      "Epoch 16/20\n",
      "53/53 [==============================] - 18s 331ms/step - loss: 0.0661 - accuracy: 0.9757 - val_loss: 0.0497 - val_accuracy: 0.9844\n",
      "Epoch 17/20\n",
      "53/53 [==============================] - 18s 336ms/step - loss: 0.0466 - accuracy: 0.9781 - val_loss: 0.0517 - val_accuracy: 0.9792\n",
      "Epoch 18/20\n",
      "53/53 [==============================] - 18s 330ms/step - loss: 0.1317 - accuracy: 0.9467 - val_loss: 0.2283 - val_accuracy: 0.8958\n",
      "Epoch 19/20\n",
      "53/53 [==============================] - 18s 334ms/step - loss: 0.0738 - accuracy: 0.9739 - val_loss: 0.0410 - val_accuracy: 0.9844\n",
      "Epoch 20/20\n",
      "53/53 [==============================] - 18s 331ms/step - loss: 0.0715 - accuracy: 0.9745 - val_loss: 0.0587 - val_accuracy: 0.9844\n"
     ]
    },
    {
     "data": {
      "text/plain": [
       "<keras.callbacks.History at 0x1f3c780bfa0>"
      ]
     },
     "execution_count": 8,
     "metadata": {},
     "output_type": "execute_result"
    }
   ],
   "source": [
    "model.fit(\n",
    "train_generator,\n",
    "    steps_per_epoch=53,\n",
    "#   1721/32 = 53.78125 \n",
    "    validation_data=validation_generator,\n",
    "#   215/32 = 6.71875 \n",
    "    validation_steps= 6,\n",
    "    verbose=1,\n",
    "    epochs=20\n",
    ")"
   ]
  },
  {
   "cell_type": "code",
   "execution_count": 9,
   "id": "8f3125e9",
   "metadata": {},
   "outputs": [
    {
     "name": "stdout",
     "output_type": "stream",
     "text": [
      "7/7 [==============================] - 3s 401ms/step - loss: 0.1327 - accuracy: 0.9491\n"
     ]
    }
   ],
   "source": [
    "score = model.evaluate(test_generator)"
   ]
  },
  {
   "cell_type": "code",
   "execution_count": 10,
   "id": "48b0b57a",
   "metadata": {},
   "outputs": [
    {
     "name": "stdout",
     "output_type": "stream",
     "text": [
      "INFO:tensorflow:Assets written to: ../models/6\\assets\n"
     ]
    }
   ],
   "source": [
    "model.save(\"../models/6\")"
   ]
  },
  {
   "cell_type": "code",
   "execution_count": null,
   "id": "f4058023",
   "metadata": {},
   "outputs": [],
   "source": []
  }
 ],
 "metadata": {
  "kernelspec": {
   "display_name": "Python 3 (ipykernel)",
   "language": "python",
   "name": "python3"
  },
  "language_info": {
   "codemirror_mode": {
    "name": "ipython",
    "version": 3
   },
   "file_extension": ".py",
   "mimetype": "text/x-python",
   "name": "python",
   "nbconvert_exporter": "python",
   "pygments_lexer": "ipython3",
   "version": "3.10.1"
  }
 },
 "nbformat": 4,
 "nbformat_minor": 5
}
